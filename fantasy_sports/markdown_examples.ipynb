{
 "cells": [
  {
   "cell_type": "markdown",
   "metadata": {},
   "source": [
    "# Heading 1\n",
    "## Heading 2\n",
    "### Heading 3\n",
    "\n",
    "Hi!\n",
    "* one fish\n",
    "* two fish\n",
    "* red fish\n",
    "* blue fish\n",
    "\n",
    "**example bold text**\n",
    "\n",
    "*example italics text*\n",
    "\n"
   ]
  },
  {
   "cell_type": "markdown",
   "metadata": {},
   "source": [
    "This is a **Latex** equation:\n",
    "\n",
    "$\\int_0^\\infty x^{-\\alpha}$"
   ]
  },
  {
   "cell_type": "code",
   "execution_count": 2,
   "metadata": {},
   "outputs": [
    {
     "name": "stderr",
     "output_type": "stream",
     "text": [
      "'ls' is not recognized as an internal or external command,\n",
      "operable program or batch file.\n"
     ]
    }
   ],
   "source": [
    "!ls"
   ]
  },
  {
   "cell_type": "code",
   "execution_count": 3,
   "metadata": {},
   "outputs": [
    {
     "name": "stdout",
     "output_type": "stream",
     "text": [
      " Volume in drive C is Windows\n",
      " Volume Serial Number is 82C5-70FC\n",
      "\n",
      " Directory of C:\\Users\\Philippe\\Dropbox\\Desktop\\python\\fantasy_sports\n",
      "\n",
      "11/08/2018  09:28 PM    <DIR>          .\n",
      "11/08/2018  09:28 PM    <DIR>          ..\n",
      "11/08/2018  09:20 PM    <DIR>          .ipynb_checkpoints\n",
      "11/03/2018  05:54 PM            48,645 FanDuel-NFL-2018-11-04-29518-players-list.csv\n",
      "11/03/2018  05:42 PM           157,837 Fantasy Football V 0.0.ipynb\n",
      "11/08/2018  09:16 PM            12,975 fantasy_football_knapsack_v0.ipynb\n",
      "11/08/2018  09:28 PM             1,045 markdown_examples.ipynb\n",
      "               4 File(s)        220,502 bytes\n",
      "               3 Dir(s)  272,811,868,160 bytes free\n"
     ]
    }
   ],
   "source": [
    "ls"
   ]
  },
  {
   "cell_type": "code",
   "execution_count": 7,
   "metadata": {},
   "outputs": [
    {
     "name": "stdout",
     "output_type": "stream",
     "text": [
      "fantasy_football_knapsack_v0.ipynb\n",
      "fantasy_football_knapsack_v0.ipynb\n"
     ]
    }
   ],
   "source": [
    "filename = 'fantasy_football_knapsack_v0.ipynb'\n",
    "!echo $filename\n",
    "print(filename)"
   ]
  },
  {
   "cell_type": "code",
   "execution_count": 9,
   "metadata": {},
   "outputs": [
    {
     "name": "stdout",
     "output_type": "stream",
     "text": [
      " Volume in drive C is Windows\n",
      " Volume Serial Number is 82C5-70FC\n",
      "\n",
      " Directory of C:\\Users\\Philippe\\Dropbox\\Desktop\\python\\fantasy_sports\n",
      "\n",
      "11/09/2018  08:46 PM    <DIR>          .\n",
      "11/09/2018  08:46 PM    <DIR>          ..\n",
      "11/08/2018  09:20 PM    <DIR>          .ipynb_checkpoints\n",
      "11/03/2018  05:54 PM            48,645 FanDuel-NFL-2018-11-04-29518-players-list.csv\n",
      "11/03/2018  05:42 PM           157,837 Fantasy Football V 0.0.ipynb\n",
      "11/08/2018  09:16 PM            12,975 fantasy_football_knapsack_v0.ipynb\n",
      "11/09/2018  08:46 PM             2,442 markdown_examples.ipynb\n",
      "               4 File(s)        221,899 bytes\n",
      "               3 Dir(s)  272,809,832,448 bytes free\n"
     ]
    }
   ],
   "source": [
    "!dir"
   ]
  },
  {
   "cell_type": "code",
   "execution_count": 16,
   "metadata": {},
   "outputs": [
    {
     "name": "stdout",
     "output_type": "stream",
     "text": [
      " Volume in drive C is Windows\n",
      " Volume Serial Number is 82C5-70FC\n",
      "\n",
      " Directory of C:\\Users\\Philippe\n",
      "\n",
      "11/01/2018  09:49 PM    <DIR>          .\n",
      "11/01/2018  09:49 PM    <DIR>          ..\n",
      "01/13/2018  11:11 PM    <DIR>          .aws\n",
      "05/13/2018  10:32 PM    <DIR>          .azure\n",
      "03/10/2018  10:04 PM           127,801 .babel.json\n",
      "11/08/2018  08:59 PM             7,523 .bash_history\n",
      "09/22/2018  07:52 PM                82 .bashrc\n",
      "05/27/2018  03:59 PM             1,038 .csslintrc\n",
      "05/27/2018  03:59 PM             1,570 .eslintrc\n",
      "10/07/2018  03:01 PM               114 .gitconfig\n",
      "09/21/2018  06:05 AM                18 .minttyrc\n",
      "08/16/2018  05:28 AM    <DIR>          .nbi\n",
      "05/10/2018  05:46 PM    <DIR>          .omnisharp\n",
      "12/07/2017  10:36 AM    <DIR>          .oracle_jre_usage\n",
      "11/05/2018  08:27 PM    <DIR>          .pylint.d\n",
      "08/17/2017  09:40 PM    <DIR>          .spyder-py3\n",
      "07/12/2017  07:00 PM    <DIR>          .ssh\n",
      "10/19/2017  06:40 PM    <DIR>          .swt\n",
      "06/11/2018  09:24 PM    <DIR>          .templateengine\n",
      "01/15/2018  11:05 AM    <DIR>          .tooling\n",
      "03/06/2018  08:25 PM            10,747 .v8flags.6.0.287.53.f7f861681aecb18f4c96fa62eabb43ee.json\n",
      "10/06/2018  02:57 PM            18,811 .viminfo\n",
      "01/13/2018  05:53 PM    <DIR>          .vscode\n",
      "10/10/2018  05:19 AM    <DIR>          3D Objects\n",
      "11/01/2018  09:54 PM    <DIR>          Anaconda3\n",
      "05/27/2018  03:59 PM             2,868 coffeelint.json\n",
      "10/10/2018  05:19 AM    <DIR>          Contacts\n",
      "10/10/2018  05:19 AM    <DIR>          Desktop\n",
      "07/13/2017  08:18 AM    <DIR>          DESKTOP-K1SR4UN\n",
      "05/16/2018  06:30 PM    <DIR>          Documents\n",
      "11/09/2018  01:04 PM    <DIR>          Downloads\n",
      "05/16/2018  06:29 PM    <DIR>          Dropbox\n",
      "10/10/2018  05:19 AM    <DIR>          Favorites\n",
      "10/10/2018  05:19 AM    <DIR>          Links\n",
      "10/10/2018  05:19 AM    <DIR>          Music\n",
      "02/13/2018  07:24 PM    <DIR>          node_modules\n",
      "10/15/2018  05:44 PM    <DIR>          OneDrive\n",
      "05/11/2018  09:30 PM    <DIR>          optimus-prime-bot\n",
      "02/26/2018  07:24 PM                27 package-lock.json\n",
      "11/01/2018  09:49 PM    <DIR>          Pictures\n",
      "10/28/2018  07:39 PM                 0 pip\n",
      "10/10/2018  05:19 AM    <DIR>          Saved Games\n",
      "10/10/2018  05:19 AM    <DIR>          Searches\n",
      "07/29/2017  03:33 AM    <DIR>          Source\n",
      "05/27/2018  03:59 PM             1,881 tslint.json\n",
      "11/09/2018  08:44 PM    <DIR>          Videos\n",
      "              13 File(s)        172,480 bytes\n",
      "              33 Dir(s)  272,813,883,392 bytes free\n"
     ]
    }
   ],
   "source": [
    "ls"
   ]
  },
  {
   "cell_type": "code",
   "execution_count": null,
   "metadata": {},
   "outputs": [],
   "source": [
    "# try with shakespeare.txt on linux\n",
    "!head -n 3 $filename\n",
    "!tail -n 1 $filename\n",
    "!wc $filename\n",
    "!wc -l $filename\n",
    "!cat $filename | wc -l\n",
    "!grep -i 'parchment' $filename\n",
    "!cat $filename | grep -o 'liberty' | wc -l\n",
    "\n",
    "# !sed -e 's/parchment/manuscript/g' $filename > temp.txt\n",
    "!grep -i 'manuscript' temp.txt\n",
    "\n",
    "!head -n 5 $filename | sort\n",
    "\n",
    "# columns separated by ' ', sort on column 2 (-k2), case insensitive (-f)\n",
    "!head -n 5 $filename | sort -f -t' ' -k2\n",
    "\n",
    "!sort $filename | wc -l\n",
    "\n",
    "!sort $filename | uniq -u | wc -l\n",
    "\n",
    "!sed -e 's/ /\\'$'\\n/g' < $filename | sort | uniq -c | sort -nr | head -15\n",
    "\n",
    "!cat count_vs_words.txt\n"
   ]
  }
 ],
 "metadata": {
  "kernelspec": {
   "display_name": "Python 3",
   "language": "python",
   "name": "python3"
  },
  "language_info": {
   "codemirror_mode": {
    "name": "ipython",
    "version": 3
   },
   "file_extension": ".py",
   "mimetype": "text/x-python",
   "name": "python",
   "nbconvert_exporter": "python",
   "pygments_lexer": "ipython3",
   "version": "3.7.0"
  }
 },
 "nbformat": 4,
 "nbformat_minor": 2
}
