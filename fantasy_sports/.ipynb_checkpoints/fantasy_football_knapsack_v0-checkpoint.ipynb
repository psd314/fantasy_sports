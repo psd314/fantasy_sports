{
 "cells": [
  {
   "cell_type": "code",
   "execution_count": 23,
   "metadata": {},
   "outputs": [],
   "source": [
    "import pandas as pd\n",
    "pd.set_option('display.max_rows', 500)"
   ]
  },
  {
   "cell_type": "code",
   "execution_count": 9,
   "metadata": {},
   "outputs": [],
   "source": [
    "file = 'FanDuel-NFL-2018-11-04-29518-players-list.csv'"
   ]
  },
  {
   "cell_type": "code",
   "execution_count": 10,
   "metadata": {},
   "outputs": [],
   "source": [
    "raw = pd.read_csv(file)\n",
    "raw.fillna(0, inplace=True)\n",
    "df = raw.loc[:, 'Position':'Injury Details']"
   ]
  },
  {
   "cell_type": "code",
   "execution_count": 11,
   "metadata": {},
   "outputs": [
    {
     "data": {
      "text/plain": [
       "array(['RB', 'QB', 'WR', 'TE', 'D'], dtype=object)"
      ]
     },
     "execution_count": 11,
     "metadata": {},
     "output_type": "execute_result"
    }
   ],
   "source": [
    "# raw[raw['Injury Indicator'] != 0]\n",
    "df.Position.unique()"
   ]
  },
  {
   "cell_type": "code",
   "execution_count": 58,
   "metadata": {
    "scrolled": false
   },
   "outputs": [
    {
     "name": "stdout",
     "output_type": "stream",
     "text": [
      "93.5\n"
     ]
    },
    {
     "data": {
      "text/html": [
       "<div>\n",
       "<style scoped>\n",
       "    .dataframe tbody tr th:only-of-type {\n",
       "        vertical-align: middle;\n",
       "    }\n",
       "\n",
       "    .dataframe tbody tr th {\n",
       "        vertical-align: top;\n",
       "    }\n",
       "\n",
       "    .dataframe thead th {\n",
       "        text-align: right;\n",
       "    }\n",
       "</style>\n",
       "<table border=\"1\" class=\"dataframe\">\n",
       "  <thead>\n",
       "    <tr style=\"text-align: right;\">\n",
       "      <th></th>\n",
       "      <th>FPPG</th>\n",
       "      <th>Played</th>\n",
       "      <th>Salary</th>\n",
       "    </tr>\n",
       "  </thead>\n",
       "  <tbody>\n",
       "    <tr>\n",
       "      <th>count</th>\n",
       "      <td>374.000000</td>\n",
       "      <td>374.000000</td>\n",
       "      <td>374.000000</td>\n",
       "    </tr>\n",
       "    <tr>\n",
       "      <th>mean</th>\n",
       "      <td>5.185353</td>\n",
       "      <td>4.299465</td>\n",
       "      <td>5151.871658</td>\n",
       "    </tr>\n",
       "    <tr>\n",
       "      <th>std</th>\n",
       "      <td>6.105420</td>\n",
       "      <td>3.073915</td>\n",
       "      <td>1258.423297</td>\n",
       "    </tr>\n",
       "    <tr>\n",
       "      <th>min</th>\n",
       "      <td>-2.000000</td>\n",
       "      <td>0.000000</td>\n",
       "      <td>3000.000000</td>\n",
       "    </tr>\n",
       "    <tr>\n",
       "      <th>25%</th>\n",
       "      <td>0.125000</td>\n",
       "      <td>1.000000</td>\n",
       "      <td>4500.000000</td>\n",
       "    </tr>\n",
       "    <tr>\n",
       "      <th>50%</th>\n",
       "      <td>3.006667</td>\n",
       "      <td>5.000000</td>\n",
       "      <td>4500.000000</td>\n",
       "    </tr>\n",
       "    <tr>\n",
       "      <th>75%</th>\n",
       "      <td>8.037500</td>\n",
       "      <td>7.000000</td>\n",
       "      <td>6000.000000</td>\n",
       "    </tr>\n",
       "    <tr>\n",
       "      <th>max</th>\n",
       "      <td>28.075001</td>\n",
       "      <td>15.000000</td>\n",
       "      <td>11200.000000</td>\n",
       "    </tr>\n",
       "  </tbody>\n",
       "</table>\n",
       "</div>"
      ],
      "text/plain": [
       "             FPPG      Played        Salary\n",
       "count  374.000000  374.000000    374.000000\n",
       "mean     5.185353    4.299465   5151.871658\n",
       "std      6.105420    3.073915   1258.423297\n",
       "min     -2.000000    0.000000   3000.000000\n",
       "25%      0.125000    1.000000   4500.000000\n",
       "50%      3.006667    5.000000   4500.000000\n",
       "75%      8.037500    7.000000   6000.000000\n",
       "max     28.075001   15.000000  11200.000000"
      ]
     },
     "execution_count": 58,
     "metadata": {},
     "output_type": "execute_result"
    }
   ],
   "source": [
    "'''\n",
    "Salary percentages by position - 50/50, GPP\n",
    "qb - 16.5, 15.8 * 1\n",
    "rb - 24.9, 24.7 * 2\n",
    "wr - 24.4, 24.5 * 3\n",
    "te - 10.0, 10.5 * 1\n",
    "flex - 10.7, 10.5 * 1 (create by removing chosen rbs, wrs and tes and select from remaining players)\n",
    "d - 7.0, 7.5 * 1\n",
    "k - 6.5, 6.5 * 0 (for fanduel)\n",
    "-do your own research on these numbers later with reverse engineering most successful lineups\n",
    "-remove lines where players are on opposing teams\n",
    "'''\n",
    "print(15.8+24.7+24.5+10.5+10.5+7.5)\n",
    "df[df['Injury Indicator']==0].describe()"
   ]
  },
  {
   "cell_type": "code",
   "execution_count": 13,
   "metadata": {},
   "outputs": [
    {
     "name": "stdout",
     "output_type": "stream",
     "text": [
      "(415, 12)\n"
     ]
    },
    {
     "data": {
      "text/plain": [
       "(374, 12)"
      ]
     },
     "execution_count": 13,
     "metadata": {},
     "output_type": "execute_result"
    }
   ],
   "source": [
    "# remove injured players\n",
    "print(df.shape)\n",
    "df = df[df['Injury Indicator'] == 0]\n",
    "df.shape"
   ]
  },
  {
   "cell_type": "code",
   "execution_count": 14,
   "metadata": {},
   "outputs": [],
   "source": [
    "qbs = df[df['Position']=='QB'].sort_values('FPPG', ascending=False)\n",
    "rbs = df[df['Position']=='RB'].sort_values('FPPG', ascending=False)\n",
    "wrs = df[df['Position']=='WR'].sort_values('FPPG', ascending=False)\n",
    "tes = df[df['Position']=='TE'].sort_values('FPPG', ascending=False)\n",
    "ds = df[df['Position']=='D'].sort_values('FPPG', ascending=False)\n",
    "# loop through and make a dictionary of all of these? dict comprehension?"
   ]
  },
  {
   "cell_type": "code",
   "execution_count": 57,
   "metadata": {},
   "outputs": [
    {
     "name": "stdout",
     "output_type": "stream",
     "text": [
      "qbs (56, 12)\n",
      "rbs (86, 12)\n",
      "wrs (129, 12)\n",
      "tes (83, 12)\n",
      "ds (20, 12)\n",
      "1475917725018240\n",
      "20.039583412806188\n",
      "27.354166668937324\n",
      "44.198767927714755\n",
      "7.316874924160186\n",
      "7.394642857142857\n"
     ]
    },
    {
     "data": {
      "text/plain": [
       "0.058333333333333334"
      ]
     },
     "execution_count": 57,
     "metadata": {},
     "output_type": "execute_result"
    }
   ],
   "source": [
    "print('qbs', qbs.shape)\n",
    "print('rbs', rbs.shape)\n",
    "print('wrs', wrs.shape)\n",
    "print('tes', tes.shape)\n",
    "print('ds', ds.shape)\n",
    "print(56*86*86*129*129*129*83*20)\n",
    "print(qbs.sort_values('Salary', ascending=False).iloc[:20]['FPPG'].mean() )\n",
    "print(rbs.sort_values('Salary', ascending=False).iloc[:20]['FPPG'].mean() * 2)\n",
    "print(wrs.sort_values('Salary', ascending=False).iloc[:20]['FPPG'].mean() * 3)\n",
    "print(tes.sort_values('Salary', ascending=False).iloc[:20]['FPPG'].mean())\n",
    "print(ds.sort_values('Salary', ascending=False).iloc[:20]['FPPG'].mean())\n",
    "20 + 27 + 44 + 7 + 7 + 14\n",
    "7/120"
   ]
  },
  {
   "cell_type": "code",
   "execution_count": 19,
   "metadata": {},
   "outputs": [
    {
     "name": "stdout",
     "output_type": "stream",
     "text": [
      "(86, 12)\n"
     ]
    },
    {
     "data": {
      "text/html": [
       "<div>\n",
       "<style scoped>\n",
       "    .dataframe tbody tr th:only-of-type {\n",
       "        vertical-align: middle;\n",
       "    }\n",
       "\n",
       "    .dataframe tbody tr th {\n",
       "        vertical-align: top;\n",
       "    }\n",
       "\n",
       "    .dataframe thead th {\n",
       "        text-align: right;\n",
       "    }\n",
       "</style>\n",
       "<table border=\"1\" class=\"dataframe\">\n",
       "  <thead>\n",
       "    <tr style=\"text-align: right;\">\n",
       "      <th></th>\n",
       "      <th>Position</th>\n",
       "      <th>First Name</th>\n",
       "      <th>Nickname</th>\n",
       "      <th>Last Name</th>\n",
       "      <th>FPPG</th>\n",
       "      <th>Played</th>\n",
       "      <th>Salary</th>\n",
       "      <th>Game</th>\n",
       "      <th>Team</th>\n",
       "      <th>Opponent</th>\n",
       "      <th>Injury Indicator</th>\n",
       "      <th>Injury Details</th>\n",
       "    </tr>\n",
       "  </thead>\n",
       "  <tbody>\n",
       "    <tr>\n",
       "      <th>221</th>\n",
       "      <td>RB</td>\n",
       "      <td>Detrez</td>\n",
       "      <td>Detrez Newsome</td>\n",
       "      <td>Newsome</td>\n",
       "      <td>0.0</td>\n",
       "      <td>1</td>\n",
       "      <td>4500</td>\n",
       "      <td>LAC@SEA</td>\n",
       "      <td>LAC</td>\n",
       "      <td>SEA</td>\n",
       "      <td>0</td>\n",
       "      <td>0</td>\n",
       "    </tr>\n",
       "    <tr>\n",
       "      <th>258</th>\n",
       "      <td>RB</td>\n",
       "      <td>Boston</td>\n",
       "      <td>Boston Scott</td>\n",
       "      <td>Scott</td>\n",
       "      <td>0.0</td>\n",
       "      <td>0</td>\n",
       "      <td>4500</td>\n",
       "      <td>LAR@NO</td>\n",
       "      <td>NO</td>\n",
       "      <td>LAR</td>\n",
       "      <td>0</td>\n",
       "      <td>0</td>\n",
       "    </tr>\n",
       "    <tr>\n",
       "      <th>224</th>\n",
       "      <td>RB</td>\n",
       "      <td>Taquan</td>\n",
       "      <td>Taquan Mizzell</td>\n",
       "      <td>Mizzell</td>\n",
       "      <td>0.0</td>\n",
       "      <td>0</td>\n",
       "      <td>4500</td>\n",
       "      <td>CHI@BUF</td>\n",
       "      <td>CHI</td>\n",
       "      <td>BUF</td>\n",
       "      <td>0</td>\n",
       "      <td>0</td>\n",
       "    </tr>\n",
       "    <tr>\n",
       "      <th>225</th>\n",
       "      <td>RB</td>\n",
       "      <td>Christopher</td>\n",
       "      <td>Christopher Ezeala</td>\n",
       "      <td>Ezeala</td>\n",
       "      <td>0.0</td>\n",
       "      <td>0</td>\n",
       "      <td>4500</td>\n",
       "      <td>PIT@BAL</td>\n",
       "      <td>BAL</td>\n",
       "      <td>PIT</td>\n",
       "      <td>0</td>\n",
       "      <td>0</td>\n",
       "    </tr>\n",
       "    <tr>\n",
       "      <th>331</th>\n",
       "      <td>RB</td>\n",
       "      <td>John</td>\n",
       "      <td>John Kelly</td>\n",
       "      <td>Kelly</td>\n",
       "      <td>0.0</td>\n",
       "      <td>0</td>\n",
       "      <td>4500</td>\n",
       "      <td>LAR@NO</td>\n",
       "      <td>LAR</td>\n",
       "      <td>NO</td>\n",
       "      <td>0</td>\n",
       "      <td>0</td>\n",
       "    </tr>\n",
       "  </tbody>\n",
       "</table>\n",
       "</div>"
      ],
      "text/plain": [
       "    Position   First Name            Nickname Last Name  FPPG  Played  Salary  \\\n",
       "221       RB       Detrez      Detrez Newsome   Newsome   0.0       1    4500   \n",
       "258       RB       Boston        Boston Scott     Scott   0.0       0    4500   \n",
       "224       RB       Taquan      Taquan Mizzell   Mizzell   0.0       0    4500   \n",
       "225       RB  Christopher  Christopher Ezeala    Ezeala   0.0       0    4500   \n",
       "331       RB         John          John Kelly     Kelly   0.0       0    4500   \n",
       "\n",
       "        Game Team Opponent Injury Indicator Injury Details  \n",
       "221  LAC@SEA  LAC      SEA                0              0  \n",
       "258   LAR@NO   NO      LAR                0              0  \n",
       "224  CHI@BUF  CHI      BUF                0              0  \n",
       "225  PIT@BAL  BAL      PIT                0              0  \n",
       "331   LAR@NO  LAR       NO                0              0  "
      ]
     },
     "execution_count": 19,
     "metadata": {},
     "output_type": "execute_result"
    }
   ],
   "source": [
    "print(rbs.shape)\n",
    "rbs.tail()"
   ]
  },
  {
   "cell_type": "code",
   "execution_count": 26,
   "metadata": {},
   "outputs": [],
   "source": [
    "rb_combos = pd.DataFrame(columns=['Player1', 'Player2', 'Combined_FPPG', 'Combined_Salary', 'points_per_dollar'])\n",
    "index = 0\n",
    "# turn these into generators, write a function to pass to generator\n",
    "for i in range(rbs.shape[0]):\n",
    "    p1 = rbs.iloc[i]\n",
    "    for j in range(i+1, rbs.shape[0]):\n",
    "        p2 = rbs.iloc[j]\n",
    "#         print(p1.Nickname, p2.Nickname, index)\n",
    "        rb_combos.loc[index, 'Player1'] = p1['Nickname']\n",
    "        rb_combos.loc[index, 'Player2'] = p2['Nickname']\n",
    "        rb_combos.loc[index, 'Combined_FPPG'] = p1['FPPG'] + p2['FPPG']\n",
    "        rb_combos.loc[index, 'Combined_Salary'] = p1['Salary'] + p2['Salary']\n",
    "        rb_combos.loc[index, 'points_per_dollar'] = rb_combos.loc[index, 'Combined_FPPG'] / rb_combos.loc[index, 'Combined_Salary']\n",
    "        index += 1\n",
    "# rb_combos.head(50).sort_values('Player1')\n"
   ]
  },
  {
   "cell_type": "code",
   "execution_count": 27,
   "metadata": {},
   "outputs": [
    {
     "data": {
      "text/plain": [
       "'output'"
      ]
     },
     "execution_count": 27,
     "metadata": {},
     "output_type": "execute_result"
    }
   ],
   "source": [
    "\"output\""
   ]
  },
  {
   "cell_type": "code",
   "execution_count": 28,
   "metadata": {},
   "outputs": [
    {
     "data": {
      "text/plain": [
       "'output concatenated'"
      ]
     },
     "execution_count": 28,
     "metadata": {},
     "output_type": "execute_result"
    }
   ],
   "source": [
    "# underscore takes output of previous cell\n",
    "_ + ' concatenated'"
   ]
  },
  {
   "cell_type": "code",
   "execution_count": 38,
   "metadata": {},
   "outputs": [
    {
     "data": {
      "text/plain": [
       "(3655, 5)"
      ]
     },
     "execution_count": 38,
     "metadata": {},
     "output_type": "execute_result"
    }
   ],
   "source": [
    "# rb_combos.head(500).sort_values('points_per_dollar', ascending=False)\n",
    "# rb_combos[rb_combos['Combined_Salary'] <= 15000].shape #.sort_values('points_per_dollar', ascending=False)\n",
    "rb_combos.shape"
   ]
  },
  {
   "cell_type": "code",
   "execution_count": 14,
   "metadata": {},
   "outputs": [
    {
     "name": "stdout",
     "output_type": "stream",
     "text": [
      "(129, 12)\n"
     ]
    },
    {
     "data": {
      "text/html": [
       "<div>\n",
       "<style scoped>\n",
       "    .dataframe tbody tr th:only-of-type {\n",
       "        vertical-align: middle;\n",
       "    }\n",
       "\n",
       "    .dataframe tbody tr th {\n",
       "        vertical-align: top;\n",
       "    }\n",
       "\n",
       "    .dataframe thead th {\n",
       "        text-align: right;\n",
       "    }\n",
       "</style>\n",
       "<table border=\"1\" class=\"dataframe\">\n",
       "  <thead>\n",
       "    <tr style=\"text-align: right;\">\n",
       "      <th></th>\n",
       "      <th>Position</th>\n",
       "      <th>First Name</th>\n",
       "      <th>Nickname</th>\n",
       "      <th>Last Name</th>\n",
       "      <th>FPPG</th>\n",
       "      <th>Played</th>\n",
       "      <th>Salary</th>\n",
       "      <th>Game</th>\n",
       "      <th>Team</th>\n",
       "      <th>Opponent</th>\n",
       "      <th>Injury Indicator</th>\n",
       "      <th>Injury Details</th>\n",
       "    </tr>\n",
       "  </thead>\n",
       "  <tbody>\n",
       "    <tr>\n",
       "      <th>2</th>\n",
       "      <td>WR</td>\n",
       "      <td>Adam</td>\n",
       "      <td>Adam Thielen</td>\n",
       "      <td>Thielen</td>\n",
       "      <td>20.625000</td>\n",
       "      <td>8</td>\n",
       "      <td>8900</td>\n",
       "      <td>DET@MIN</td>\n",
       "      <td>MIN</td>\n",
       "      <td>DET</td>\n",
       "      <td>0</td>\n",
       "      <td>0</td>\n",
       "    </tr>\n",
       "    <tr>\n",
       "      <th>21</th>\n",
       "      <td>WR</td>\n",
       "      <td>Tyreek</td>\n",
       "      <td>Tyreek Hill</td>\n",
       "      <td>Hill</td>\n",
       "      <td>18.125000</td>\n",
       "      <td>8</td>\n",
       "      <td>7800</td>\n",
       "      <td>KC@CLE</td>\n",
       "      <td>KC</td>\n",
       "      <td>CLE</td>\n",
       "      <td>0</td>\n",
       "      <td>0</td>\n",
       "    </tr>\n",
       "    <tr>\n",
       "      <th>3</th>\n",
       "      <td>WR</td>\n",
       "      <td>Antonio</td>\n",
       "      <td>Antonio Brown</td>\n",
       "      <td>Brown</td>\n",
       "      <td>18.028571</td>\n",
       "      <td>7</td>\n",
       "      <td>8800</td>\n",
       "      <td>PIT@BAL</td>\n",
       "      <td>PIT</td>\n",
       "      <td>BAL</td>\n",
       "      <td>0</td>\n",
       "      <td>0</td>\n",
       "    </tr>\n",
       "    <tr>\n",
       "      <th>19</th>\n",
       "      <td>WR</td>\n",
       "      <td>Mike</td>\n",
       "      <td>Mike Evans</td>\n",
       "      <td>Evans</td>\n",
       "      <td>17.428571</td>\n",
       "      <td>7</td>\n",
       "      <td>7900</td>\n",
       "      <td>TB@CAR</td>\n",
       "      <td>TB</td>\n",
       "      <td>CAR</td>\n",
       "      <td>0</td>\n",
       "      <td>0</td>\n",
       "    </tr>\n",
       "    <tr>\n",
       "      <th>4</th>\n",
       "      <td>WR</td>\n",
       "      <td>DeAndre</td>\n",
       "      <td>DeAndre Hopkins</td>\n",
       "      <td>Hopkins</td>\n",
       "      <td>17.337500</td>\n",
       "      <td>8</td>\n",
       "      <td>8600</td>\n",
       "      <td>HOU@DEN</td>\n",
       "      <td>HOU</td>\n",
       "      <td>DEN</td>\n",
       "      <td>0</td>\n",
       "      <td>0</td>\n",
       "    </tr>\n",
       "  </tbody>\n",
       "</table>\n",
       "</div>"
      ],
      "text/plain": [
       "   Position First Name         Nickname Last Name       FPPG  Played  Salary  \\\n",
       "2        WR       Adam     Adam Thielen   Thielen  20.625000       8    8900   \n",
       "21       WR     Tyreek      Tyreek Hill      Hill  18.125000       8    7800   \n",
       "3        WR    Antonio    Antonio Brown     Brown  18.028571       7    8800   \n",
       "19       WR       Mike       Mike Evans     Evans  17.428571       7    7900   \n",
       "4        WR    DeAndre  DeAndre Hopkins   Hopkins  17.337500       8    8600   \n",
       "\n",
       "       Game Team Opponent Injury Indicator Injury Details  \n",
       "2   DET@MIN  MIN      DET                0              0  \n",
       "21   KC@CLE   KC      CLE                0              0  \n",
       "3   PIT@BAL  PIT      BAL                0              0  \n",
       "19   TB@CAR   TB      CAR                0              0  \n",
       "4   HOU@DEN  HOU      DEN                0              0  "
      ]
     },
     "execution_count": 14,
     "metadata": {},
     "output_type": "execute_result"
    }
   ],
   "source": [
    "print(wrs.shape)\n",
    "wrs.head().sort_values('FPPG', ascending=False)"
   ]
  },
  {
   "cell_type": "code",
   "execution_count": 1,
   "metadata": {},
   "outputs": [
    {
     "ename": "NameError",
     "evalue": "name 'pd' is not defined",
     "output_type": "error",
     "traceback": [
      "\u001b[1;31m---------------------------------------------------------------------------\u001b[0m",
      "\u001b[1;31mNameError\u001b[0m                                 Traceback (most recent call last)",
      "\u001b[1;32m<ipython-input-1-702c92ef293d>\u001b[0m in \u001b[0;36m<module>\u001b[1;34m()\u001b[0m\n\u001b[1;32m----> 1\u001b[1;33m \u001b[0mwr_combos\u001b[0m \u001b[1;33m=\u001b[0m \u001b[0mpd\u001b[0m\u001b[1;33m.\u001b[0m\u001b[0mDataFrame\u001b[0m\u001b[1;33m(\u001b[0m\u001b[0mcolumns\u001b[0m\u001b[1;33m=\u001b[0m\u001b[1;33m[\u001b[0m\u001b[1;34m'wr1'\u001b[0m\u001b[1;33m,\u001b[0m \u001b[1;34m'wr2'\u001b[0m\u001b[1;33m,\u001b[0m \u001b[1;34m'wr3'\u001b[0m\u001b[1;33m,\u001b[0m \u001b[1;34m'wr_combined_FPPG'\u001b[0m\u001b[1;33m,\u001b[0m \u001b[1;34m'wr_combined_salary'\u001b[0m\u001b[1;33m]\u001b[0m\u001b[1;33m)\u001b[0m\u001b[1;33m\u001b[0m\u001b[0m\n\u001b[0m\u001b[0;32m      2\u001b[0m \u001b[0mwr_index\u001b[0m \u001b[1;33m=\u001b[0m \u001b[1;36m0\u001b[0m\u001b[1;33m\u001b[0m\u001b[0m\n\u001b[0;32m      3\u001b[0m \u001b[1;31m# turn these into generators, write a function to pass to generator?\u001b[0m\u001b[1;33m\u001b[0m\u001b[1;33m\u001b[0m\u001b[0m\n\u001b[0;32m      4\u001b[0m \u001b[1;31m# for i in range(wrs.shape[0]):\u001b[0m\u001b[1;33m\u001b[0m\u001b[1;33m\u001b[0m\u001b[0m\n\u001b[0;32m      5\u001b[0m \u001b[1;31m#     wr1 = wrs.iloc[i]\u001b[0m\u001b[1;33m\u001b[0m\u001b[1;33m\u001b[0m\u001b[0m\n",
      "\u001b[1;31mNameError\u001b[0m: name 'pd' is not defined"
     ]
    }
   ],
   "source": [
    "wr_combos = pd.DataFrame(columns=['wr1', 'wr2', 'wr3', 'wr_combined_FPPG', 'wr_combined_salary'])\n",
    "wr_index = 0\n",
    "# turn these into generators, write a function to pass to generator?\n",
    "# for i in range(wrs.shape[0]):\n",
    "#     wr1 = wrs.iloc[i]\n",
    "#     for j in range(i+1, wrs.shape[0]):\n",
    "#         wr2 = wrs.iloc[j]\n",
    "#         for k in range(j+1, wrs.shape[0]):\n",
    "#             wr3 = wrs.iloc[k]\n",
    "#             wr_combos.loc[wr_index, 'wr1'] = wr1['Nickname']\n",
    "#             wr_combos.loc[wr_index, 'wr2'] = wr2['Nickname']\n",
    "#             wr_combos.loc[wr_index, 'wr3'] = wr3['Nickname']\n",
    "#             wr_combos.loc[wr_index, 'wr_combined_FPPG'] = wr1['FPPG'] + wr2['FPPG'] + wr3['FPPG']\n",
    "#             wr_combos.loc[wr_index, 'wr_combined_salary'] = wr1['Salary'] + wr2['Salary'] + wr3['Salary']\n",
    "#             wr_index += 1\n",
    "#             if wr_index % 1000 == 0:\n",
    "#                 print(wr_index)"
   ]
  },
  {
   "cell_type": "code",
   "execution_count": 15,
   "metadata": {},
   "outputs": [
    {
     "data": {
      "text/plain": [
       "2146689"
      ]
     },
     "execution_count": 15,
     "metadata": {},
     "output_type": "execute_result"
    }
   ],
   "source": [
    "# wr_combos.shape"
   ]
  },
  {
   "cell_type": "code",
   "execution_count": null,
   "metadata": {},
   "outputs": [],
   "source": []
  }
 ],
 "metadata": {
  "kernelspec": {
   "display_name": "Python 3",
   "language": "python",
   "name": "python3"
  },
  "language_info": {
   "codemirror_mode": {
    "name": "ipython",
    "version": 3
   },
   "file_extension": ".py",
   "mimetype": "text/x-python",
   "name": "python",
   "nbconvert_exporter": "python",
   "pygments_lexer": "ipython3",
   "version": "3.7.0"
  }
 },
 "nbformat": 4,
 "nbformat_minor": 2
}
